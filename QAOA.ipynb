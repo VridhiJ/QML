{
 "cells": [
  {
   "cell_type": "markdown",
   "metadata": {},
   "source": [
    "## QAOA Parameter Transfer: Graph A (Baseline)\n",
    "\n",
    "### 1. Setup\n",
    "- Imports\n",
    "- Graph drawing function\n",
    "- Helper utils\n",
    "\n",
    "### 2. Graph A: MaxCut Formulation\n",
    "- Create graph\n",
    "- Show adjacency + plot\n",
    "\n",
    "### 3. Convert to QUBO + Ising\n",
    "- Use Qiskit Optimization\n",
    "\n",
    "### 4. QAOA Ansatz\n",
    "- Create and show circuit (with measurement)\n",
    "- Create circuit (no measurement) for Estimator\n",
    "\n",
    "### 5. QAOA Optimization\n",
    "- Define cost function\n",
    "- Run COBYLA\n",
    "- Save trajectory\n",
    "\n",
    "### 6. Results\n",
    "- Print final energy + parameters\n",
    "- Plot cost vs iteration\n",
    "- Save outputs (JSON/PNG)\n",
    "\n"
   ]
  },
  {
   "cell_type": "markdown",
   "metadata": {},
   "source": [
    "### Setup"
   ]
  },
  {
   "cell_type": "code",
   "execution_count": 2,
   "metadata": {},
   "outputs": [
    {
     "name": "stdout",
     "output_type": "stream",
     "text": [
      "Note: you may need to restart the kernel to use updated packages.\n"
     ]
    }
   ],
   "source": [
    "%pip install qiskit==1.1.0 qiskit_optimization==0.6.1 matplotlib networkx pylatexenc --quiet"
   ]
  },
  {
   "cell_type": "code",
   "execution_count": 1,
   "metadata": {},
   "outputs": [],
   "source": [
    "import networkx as nx\n",
    "import matplotlib.pyplot as plt\n",
    "import numpy as np\n",
    "import json\n",
    "from pathlib import Path\n",
    "\n",
    "from qiskit_optimization.applications import Maxcut\n",
    "from qiskit_optimization.converters import QuadraticProgramToQubo\n",
    "from qiskit.primitives import Estimator\n",
    "from qiskit.circuit.library import QAOAAnsatz\n",
    "from scipy.optimize import minimize\n",
    "\n",
    "%matplotlib inline"
   ]
  }
 ],
 "metadata": {
  "kernelspec": {
   "display_name": "Python 3",
   "language": "python",
   "name": "python3"
  },
  "language_info": {
   "codemirror_mode": {
    "name": "ipython",
    "version": 3
   },
   "file_extension": ".py",
   "mimetype": "text/x-python",
   "name": "python",
   "nbconvert_exporter": "python",
   "pygments_lexer": "ipython3",
   "version": "3.11.5"
  }
 },
 "nbformat": 4,
 "nbformat_minor": 2
}
