{
 "cells": [
  {
   "cell_type": "code",
   "execution_count": 1,
   "metadata": {},
   "outputs": [
    {
     "name": "stdout",
     "output_type": "stream",
     "text": [
      "Collecting stim~=1.14\n",
      "  Obtaining dependency information for stim~=1.14 from https://files.pythonhosted.org/packages/a8/82/0a01580071c6d50107298e93faa88250fc30f1538117ec887ec48de7816d/stim-1.15.0-cp311-cp311-macosx_11_0_arm64.whl.metadata\n",
      "  Downloading stim-1.15.0-cp311-cp311-macosx_11_0_arm64.whl.metadata (4.4 kB)\n",
      "Requirement already satisfied: numpy in /Users/vridhi/anaconda3/lib/python3.11/site-packages (from stim~=1.14) (1.26.3)\n",
      "Downloading stim-1.15.0-cp311-cp311-macosx_11_0_arm64.whl (1.8 MB)\n",
      "\u001b[2K   \u001b[90m━━━━━━━━━━━━━━━━━━━━━━━━━━━━━━━━━━━━━━━━\u001b[0m \u001b[32m1.8/1.8 MB\u001b[0m \u001b[31m6.6 MB/s\u001b[0m eta \u001b[36m0:00:00\u001b[0m00:01\u001b[0m00:01\u001b[0m\n",
      "\u001b[?25hInstalling collected packages: stim\n",
      "Successfully installed stim-1.15.0\n",
      "Note: you may need to restart the kernel to use updated packages.\n",
      "Requirement already satisfied: numpy~=1.0 in /Users/vridhi/anaconda3/lib/python3.11/site-packages (1.26.3)\n",
      "Note: you may need to restart the kernel to use updated packages.\n",
      "Requirement already satisfied: scipy in /Users/vridhi/anaconda3/lib/python3.11/site-packages (1.11.4)\n",
      "Requirement already satisfied: numpy<1.28.0,>=1.21.6 in /Users/vridhi/anaconda3/lib/python3.11/site-packages (from scipy) (1.26.3)\n",
      "Note: you may need to restart the kernel to use updated packages.\n"
     ]
    }
   ],
   "source": [
    "%pip install stim~=1.14\n",
    "%pip install numpy~=1.0  # 1.0 instead of 2.0 for pymatching compatibility later\n",
    "%pip install scipy"
   ]
  },
  {
   "cell_type": "code",
   "execution_count": 1,
   "metadata": {},
   "outputs": [
    {
     "name": "stdout",
     "output_type": "stream",
     "text": [
      "1.15.0\n"
     ]
    }
   ],
   "source": [
    "import stim\n",
    "print(stim.__version__)"
   ]
  },
  {
   "cell_type": "code",
   "execution_count": 2,
   "metadata": {},
   "outputs": [],
   "source": [
    "# Instance of circuit\n",
    "circuit = stim.Circuit()\n",
    "\n",
    "# Initialize Bell pair (H-CX)\n",
    "circuit.append(\"H\", [0])\n",
    "circuit.append(\"CNOT\", [0, 1])\n",
    "\n",
    "# Measure of both qubits in Z basis\n",
    "circuit.append(\"M\", [0, 1])"
   ]
  },
  {
   "cell_type": "code",
   "execution_count": 3,
   "metadata": {},
   "outputs": [
    {
     "data": {
      "text/plain": [
       "stim.Circuit('''\n",
       "    H 0\n",
       "    CX 0 1\n",
       "    M 0 1\n",
       "''')"
      ]
     },
     "execution_count": 3,
     "metadata": {},
     "output_type": "execute_result"
    }
   ],
   "source": [
    "# display the circuit\n",
    "circuit"
   ]
  },
  {
   "cell_type": "code",
   "execution_count": 4,
   "metadata": {},
   "outputs": [
    {
     "data": {
      "text/html": [
       "<pre>q0: -H-@-M:rec[0]-\n",
       "       |\n",
       "q1: ---X-M:rec[1]-</pre>"
      ],
      "text/plain": [
       "q0: -H-@-M:rec[0]-\n",
       "       |\n",
       "q1: ---X-M:rec[1]-"
      ]
     },
     "execution_count": 4,
     "metadata": {},
     "output_type": "execute_result"
    }
   ],
   "source": [
    "circuit.diagram()"
   ]
  },
  {
   "cell_type": "code",
   "execution_count": 5,
   "metadata": {},
   "outputs": [
    {
     "data": {
      "image/svg+xml": [
       "<svg viewBox=\"0 0 288 224\"  version=\"1.1\" xmlns=\"http://www.w3.org/2000/svg\">\n",
       "<g id=\"qubit_lines\">\n",
       "<path id=\"qubit_line:0\" d=\"M64,64 L256,64 \" stroke=\"black\"/>\n",
       "<text dominant-baseline=\"central\" text-anchor=\"end\" font-family=\"monospace\" font-size=\"12\" x=\"64\" y=\"64\">q0</text>\n",
       "<path id=\"qubit_line:1\" d=\"M64,128 L256,128 \" stroke=\"black\"/>\n",
       "<text dominant-baseline=\"central\" text-anchor=\"end\" font-family=\"monospace\" font-size=\"12\" x=\"64\" y=\"128\">q1</text>\n",
       "</g>\n",
       "<rect x=\"80\" y=\"48\" width=\"32\" height=\"32\" stroke=\"black\" fill=\"white\"/>\n",
       "<text dominant-baseline=\"central\" text-anchor=\"middle\" font-family=\"monospace\" font-size=\"30\" x=\"96\" y=\"64\">H</text>\n",
       "<path d=\"M160,64 L160,128 \" stroke=\"black\"/>\n",
       "<circle cx=\"160\" cy=\"64\" r=\"12\" stroke=\"none\" fill=\"black\"/>\n",
       "<circle cx=\"160\" cy=\"128\" r=\"12\" stroke=\"black\" fill=\"white\"/>\n",
       "<path d=\"M148,128 L172,128 M160,116 L160,140 \" stroke=\"black\"/>\n",
       "<rect x=\"208\" y=\"48\" width=\"32\" height=\"32\" stroke=\"black\" fill=\"black\"/>\n",
       "<text dominant-baseline=\"central\" text-anchor=\"middle\" font-family=\"monospace\" font-size=\"30\" x=\"224\" y=\"64\" fill=\"white\">M</text>\n",
       "<text text-anchor=\"middle\" font-family=\"monospace\" font-size=\"8\" x=\"224\" y=\"44\">rec[0]</text>\n",
       "<rect x=\"208\" y=\"112\" width=\"32\" height=\"32\" stroke=\"black\" fill=\"black\"/>\n",
       "<text dominant-baseline=\"central\" text-anchor=\"middle\" font-family=\"monospace\" font-size=\"30\" x=\"224\" y=\"128\" fill=\"white\">M</text>\n",
       "<text text-anchor=\"middle\" font-family=\"monospace\" font-size=\"8\" x=\"224\" y=\"108\">rec[1]</text>\n",
       "</svg>"
      ],
      "text/plain": [
       "<svg viewBox=\"0 0 288 224\"  version=\"1.1\" xmlns=\"http://www.w3.org/2000/svg\">\n",
       "<g id=\"qubit_lines\">\n",
       "<path id=\"qubit_line:0\" d=\"M64,64 L256,64 \" stroke=\"black\"/>\n",
       "<text dominant-baseline=\"central\" text-anchor=\"end\" font-family=\"monospace\" font-size=\"12\" x=\"64\" y=\"64\">q0</text>\n",
       "<path id=\"qubit_line:1\" d=\"M64,128 L256,128 \" stroke=\"black\"/>\n",
       "<text dominant-baseline=\"central\" text-anchor=\"end\" font-family=\"monospace\" font-size=\"12\" x=\"64\" y=\"128\">q1</text>\n",
       "</g>\n",
       "<rect x=\"80\" y=\"48\" width=\"32\" height=\"32\" stroke=\"black\" fill=\"white\"/>\n",
       "<text dominant-baseline=\"central\" text-anchor=\"middle\" font-family=\"monospace\" font-size=\"30\" x=\"96\" y=\"64\">H</text>\n",
       "<path d=\"M160,64 L160,128 \" stroke=\"black\"/>\n",
       "<circle cx=\"160\" cy=\"64\" r=\"12\" stroke=\"none\" fill=\"black\"/>\n",
       "<circle cx=\"160\" cy=\"128\" r=\"12\" stroke=\"black\" fill=\"white\"/>\n",
       "<path d=\"M148,128 L172,128 M160,116 L160,140 \" stroke=\"black\"/>\n",
       "<rect x=\"208\" y=\"48\" width=\"32\" height=\"32\" stroke=\"black\" fill=\"black\"/>\n",
       "<text dominant-baseline=\"central\" text-anchor=\"middle\" font-family=\"monospace\" font-size=\"30\" x=\"224\" y=\"64\" fill=\"white\">M</text>\n",
       "<text text-anchor=\"middle\" font-family=\"monospace\" font-size=\"8\" x=\"224\" y=\"44\">rec[0]</text>\n",
       "<rect x=\"208\" y=\"112\" width=\"32\" height=\"32\" stroke=\"black\" fill=\"black\"/>\n",
       "<text dominant-baseline=\"central\" text-anchor=\"middle\" font-family=\"monospace\" font-size=\"30\" x=\"224\" y=\"128\" fill=\"white\">M</text>\n",
       "<text text-anchor=\"middle\" font-family=\"monospace\" font-size=\"8\" x=\"224\" y=\"108\">rec[1]</text>\n",
       "</svg>"
      ]
     },
     "execution_count": 5,
     "metadata": {},
     "output_type": "execute_result"
    }
   ],
   "source": [
    "circuit.diagram('timeline-svg')"
   ]
  },
  {
   "cell_type": "code",
   "execution_count": 6,
   "metadata": {},
   "outputs": [
    {
     "name": "stdout",
     "output_type": "stream",
     "text": [
      "[[False False]\n",
      " [ True  True]\n",
      " [False False]\n",
      " [ True  True]\n",
      " [ True  True]\n",
      " [ True  True]\n",
      " [False False]\n",
      " [ True  True]\n",
      " [False False]\n",
      " [False False]]\n"
     ]
    }
   ],
   "source": [
    "# 10 measurements from the circuit\n",
    "sampler = circuit.compile_sampler()\n",
    "print(sampler.sample(shots = 10))"
   ]
  },
  {
   "cell_type": "markdown",
   "metadata": {},
   "source": [
    "|00⟩ + |11⟩ state"
   ]
  },
  {
   "cell_type": "code",
   "execution_count": 7,
   "metadata": {},
   "outputs": [
    {
     "name": "stdout",
     "output_type": "stream",
     "text": [
      "stim.Circuit('''\n",
      "    H 0\n",
      "    CX 0 1\n",
      "    M 0 1\n",
      "    DETECTOR rec[-1] rec[-2]\n",
      "''')\n"
     ]
    }
   ],
   "source": [
    "# Adding detector annotations to circuit\n",
    "circuit.append(\"DETECTOR\", [stim.target_rec(-1), stim.target_rec(-2)]) \n",
    "print(repr(circuit))"
   ]
  },
  {
   "cell_type": "code",
   "execution_count": 8,
   "metadata": {},
   "outputs": [
    {
     "name": "stdout",
     "output_type": "stream",
     "text": [
      "[[False]\n",
      " [False]\n",
      " [False]\n",
      " [False]\n",
      " [False]]\n"
     ]
    }
   ],
   "source": [
    "# sample the output with detectors\n",
    "sampler = circuit.compile_detector_sampler()\n",
    "print(sampler.sample(shots = 5))"
   ]
  },
  {
   "cell_type": "code",
   "execution_count": 9,
   "metadata": {},
   "outputs": [],
   "source": [
    "# circuit with noise X_error and tick to track progression of time\n",
    "circuit = stim.Circuit(\"\"\"\n",
    "    H 0\n",
    "    TICK\n",
    "\n",
    "    CX 0 1\n",
    "    X_ERROR(0.2) 0 1\n",
    "    TICK\n",
    "\n",
    "    M 0 1\n",
    "    DETECTOR rec[-1] rec[-2]\n",
    "\"\"\")"
   ]
  },
  {
   "cell_type": "code",
   "execution_count": 10,
   "metadata": {},
   "outputs": [
    {
     "data": {
      "image/svg+xml": [
       "<svg viewBox=\"0 0 470.4 336\"  version=\"1.1\" xmlns=\"http://www.w3.org/2000/svg\">\n",
       "<g id=\"qubit_dots\">\n",
       "<circle id=\"qubit_dot:0:0\" cx=\"80\" cy=\"80\" r=\"2\" stroke=\"none\" fill=\"black\"/>\n",
       "<circle id=\"qubit_dot:1:0\" cx=\"144\" cy=\"80\" r=\"2\" stroke=\"none\" fill=\"black\"/>\n",
       "<circle id=\"qubit_dot:0:0\" cx=\"80\" cy=\"256\" r=\"2\" stroke=\"none\" fill=\"black\"/>\n",
       "<circle id=\"qubit_dot:1:0\" cx=\"144\" cy=\"256\" r=\"2\" stroke=\"none\" fill=\"black\"/>\n",
       "<circle id=\"qubit_dot:0:1\" cx=\"326.4\" cy=\"80\" r=\"2\" stroke=\"none\" fill=\"black\"/>\n",
       "<circle id=\"qubit_dot:1:1\" cx=\"390.4\" cy=\"80\" r=\"2\" stroke=\"none\" fill=\"black\"/>\n",
       "</g>\n",
       "<rect x=\"64\" y=\"64\" width=\"32\" height=\"32\" stroke=\"black\" fill=\"white\"/>\n",
       "<text dominant-baseline=\"central\" text-anchor=\"middle\" font-family=\"monospace\" font-size=\"30\" x=\"80\" y=\"80\">H</text>\n",
       "<path d=\"M326.4,80 L390.4,80 \" fill=\"none\" stroke=\"black\" stroke-width=\"5\"/>\n",
       "<circle cx=\"326.4\" cy=\"80\" r=\"12\" stroke=\"none\" fill=\"black\"/>\n",
       "<circle cx=\"390.4\" cy=\"80\" r=\"12\" stroke=\"black\" fill=\"white\"/>\n",
       "<path d=\"M378.4,80 L402.4,80 M390.4,68 L390.4,92 \" stroke=\"black\"/>\n",
       "<rect x=\"324.4\" y=\"80\" width=\"32\" height=\"32\" stroke=\"black\" fill=\"pink\"/>\n",
       "<text dominant-baseline=\"central\" text-anchor=\"middle\" font-family=\"monospace\" font-size=\"12\" x=\"340.4\" y=\"96\">ERR<tspan baseline-shift=\"sub\" font-size=\"10\">X</tspan></text>\n",
       "<text dominant-baseline=\"hanging\" text-anchor=\"middle\" font-family=\"monospace\" font-size=\"10\" stroke=\"red\" x=\"340.4\" y=\"116\">0.2</text>\n",
       "<rect x=\"388.4\" y=\"80\" width=\"32\" height=\"32\" stroke=\"black\" fill=\"pink\"/>\n",
       "<text dominant-baseline=\"central\" text-anchor=\"middle\" font-family=\"monospace\" font-size=\"12\" x=\"404.4\" y=\"96\">ERR<tspan baseline-shift=\"sub\" font-size=\"10\">X</tspan></text>\n",
       "<text dominant-baseline=\"hanging\" text-anchor=\"middle\" font-family=\"monospace\" font-size=\"10\" stroke=\"red\" x=\"404.4\" y=\"116\">0.2</text>\n",
       "<rect x=\"64\" y=\"240\" width=\"32\" height=\"32\" stroke=\"black\" fill=\"black\"/>\n",
       "<text dominant-baseline=\"central\" text-anchor=\"middle\" font-family=\"monospace\" font-size=\"30\" x=\"80\" y=\"256\" fill=\"white\">M</text>\n",
       "<rect x=\"128\" y=\"240\" width=\"32\" height=\"32\" stroke=\"black\" fill=\"black\"/>\n",
       "<text dominant-baseline=\"central\" text-anchor=\"middle\" font-family=\"monospace\" font-size=\"30\" x=\"144\" y=\"256\" fill=\"white\">M</text>\n",
       "<g id=\"tick_borders\">\n",
       "<text dominant-baseline=\"hanging\" text-anchor=\"middle\" font-family=\"serif\" font-size=\"18\" transform=\"rotate(90)\" x=\"80\" y=\"-218\">Tick 0</text>\n",
       "<rect id=\"tick_border:0:0_0:0\" x=\"0\" y=\"0\" width=\"224\" height=\"160\" stroke=\"black\" fill=\"none\"/>\n",
       "<text dominant-baseline=\"hanging\" text-anchor=\"middle\" font-family=\"serif\" font-size=\"18\" transform=\"rotate(90)\" x=\"80\" y=\"-464.4\">Tick 1</text>\n",
       "<rect id=\"tick_border:1:0_1:1\" x=\"246.4\" y=\"0\" width=\"224\" height=\"160\" stroke=\"black\" fill=\"none\"/>\n",
       "<text dominant-baseline=\"hanging\" text-anchor=\"middle\" font-family=\"serif\" font-size=\"18\" transform=\"rotate(90)\" x=\"256\" y=\"-218\">Tick 2</text>\n",
       "<rect id=\"tick_border:2:1_0:2\" x=\"0\" y=\"176\" width=\"224\" height=\"160\" stroke=\"black\" fill=\"none\"/>\n",
       "</g>\n",
       "</svg>"
      ],
      "text/plain": [
       "<svg viewBox=\"0 0 470.4 336\"  version=\"1.1\" xmlns=\"http://www.w3.org/2000/svg\">\n",
       "<g id=\"qubit_dots\">\n",
       "<circle id=\"qubit_dot:0:0\" cx=\"80\" cy=\"80\" r=\"2\" stroke=\"none\" fill=\"black\"/>\n",
       "<circle id=\"qubit_dot:1:0\" cx=\"144\" cy=\"80\" r=\"2\" stroke=\"none\" fill=\"black\"/>\n",
       "<circle id=\"qubit_dot:0:0\" cx=\"80\" cy=\"256\" r=\"2\" stroke=\"none\" fill=\"black\"/>\n",
       "<circle id=\"qubit_dot:1:0\" cx=\"144\" cy=\"256\" r=\"2\" stroke=\"none\" fill=\"black\"/>\n",
       "<circle id=\"qubit_dot:0:1\" cx=\"326.4\" cy=\"80\" r=\"2\" stroke=\"none\" fill=\"black\"/>\n",
       "<circle id=\"qubit_dot:1:1\" cx=\"390.4\" cy=\"80\" r=\"2\" stroke=\"none\" fill=\"black\"/>\n",
       "</g>\n",
       "<rect x=\"64\" y=\"64\" width=\"32\" height=\"32\" stroke=\"black\" fill=\"white\"/>\n",
       "<text dominant-baseline=\"central\" text-anchor=\"middle\" font-family=\"monospace\" font-size=\"30\" x=\"80\" y=\"80\">H</text>\n",
       "<path d=\"M326.4,80 L390.4,80 \" fill=\"none\" stroke=\"black\" stroke-width=\"5\"/>\n",
       "<circle cx=\"326.4\" cy=\"80\" r=\"12\" stroke=\"none\" fill=\"black\"/>\n",
       "<circle cx=\"390.4\" cy=\"80\" r=\"12\" stroke=\"black\" fill=\"white\"/>\n",
       "<path d=\"M378.4,80 L402.4,80 M390.4,68 L390.4,92 \" stroke=\"black\"/>\n",
       "<rect x=\"324.4\" y=\"80\" width=\"32\" height=\"32\" stroke=\"black\" fill=\"pink\"/>\n",
       "<text dominant-baseline=\"central\" text-anchor=\"middle\" font-family=\"monospace\" font-size=\"12\" x=\"340.4\" y=\"96\">ERR<tspan baseline-shift=\"sub\" font-size=\"10\">X</tspan></text>\n",
       "<text dominant-baseline=\"hanging\" text-anchor=\"middle\" font-family=\"monospace\" font-size=\"10\" stroke=\"red\" x=\"340.4\" y=\"116\">0.2</text>\n",
       "<rect x=\"388.4\" y=\"80\" width=\"32\" height=\"32\" stroke=\"black\" fill=\"pink\"/>\n",
       "<text dominant-baseline=\"central\" text-anchor=\"middle\" font-family=\"monospace\" font-size=\"12\" x=\"404.4\" y=\"96\">ERR<tspan baseline-shift=\"sub\" font-size=\"10\">X</tspan></text>\n",
       "<text dominant-baseline=\"hanging\" text-anchor=\"middle\" font-family=\"monospace\" font-size=\"10\" stroke=\"red\" x=\"404.4\" y=\"116\">0.2</text>\n",
       "<rect x=\"64\" y=\"240\" width=\"32\" height=\"32\" stroke=\"black\" fill=\"black\"/>\n",
       "<text dominant-baseline=\"central\" text-anchor=\"middle\" font-family=\"monospace\" font-size=\"30\" x=\"80\" y=\"256\" fill=\"white\">M</text>\n",
       "<rect x=\"128\" y=\"240\" width=\"32\" height=\"32\" stroke=\"black\" fill=\"black\"/>\n",
       "<text dominant-baseline=\"central\" text-anchor=\"middle\" font-family=\"monospace\" font-size=\"30\" x=\"144\" y=\"256\" fill=\"white\">M</text>\n",
       "<g id=\"tick_borders\">\n",
       "<text dominant-baseline=\"hanging\" text-anchor=\"middle\" font-family=\"serif\" font-size=\"18\" transform=\"rotate(90)\" x=\"80\" y=\"-218\">Tick 0</text>\n",
       "<rect id=\"tick_border:0:0_0:0\" x=\"0\" y=\"0\" width=\"224\" height=\"160\" stroke=\"black\" fill=\"none\"/>\n",
       "<text dominant-baseline=\"hanging\" text-anchor=\"middle\" font-family=\"serif\" font-size=\"18\" transform=\"rotate(90)\" x=\"80\" y=\"-464.4\">Tick 1</text>\n",
       "<rect id=\"tick_border:1:0_1:1\" x=\"246.4\" y=\"0\" width=\"224\" height=\"160\" stroke=\"black\" fill=\"none\"/>\n",
       "<text dominant-baseline=\"hanging\" text-anchor=\"middle\" font-family=\"serif\" font-size=\"18\" transform=\"rotate(90)\" x=\"256\" y=\"-218\">Tick 2</text>\n",
       "<rect id=\"tick_border:2:1_0:2\" x=\"0\" y=\"176\" width=\"224\" height=\"160\" stroke=\"black\" fill=\"none\"/>\n",
       "</g>\n",
       "</svg>"
      ]
     },
     "execution_count": 10,
     "metadata": {},
     "output_type": "execute_result"
    }
   ],
   "source": [
    "circuit.diagram('timeslice-svg')"
   ]
  }
 ],
 "metadata": {
  "kernelspec": {
   "display_name": "Python 3",
   "language": "python",
   "name": "python3"
  },
  "language_info": {
   "codemirror_mode": {
    "name": "ipython",
    "version": 3
   },
   "file_extension": ".py",
   "mimetype": "text/x-python",
   "name": "python",
   "nbconvert_exporter": "python",
   "pygments_lexer": "ipython3",
   "version": "3.11.5"
  }
 },
 "nbformat": 4,
 "nbformat_minor": 2
}
